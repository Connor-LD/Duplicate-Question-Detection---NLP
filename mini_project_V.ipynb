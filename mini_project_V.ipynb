{
 "cells": [
  {
   "cell_type": "markdown",
   "metadata": {},
   "source": [
    "## Identifying Duplicate Questions"
   ]
  },
  {
   "cell_type": "markdown",
   "metadata": {},
   "source": [
    "Over 100 million people visit Quora every month, so it's no surprise that many people ask similar (or the same) questions. Various questions with the same intent can cause people to spend extra time searching for the best answer to their question, and results in members answering multiple versions of the same question. Quora uses random forest to identify duplicated questions to provide a better experience to active seekers and writers, and offer more value to both of these groups in the long term.\n",
    "Follow the steps outlined below to build the appropriate classifier model. \n",
    "\n",
    "\n",
    "Steps:\n",
    "- Download data\n",
    "- Exploration\n",
    "- Cleaning\n",
    "- Feature Engineering\n",
    "- Modeling\n",
    "\n",
    "By the end of this project you should have **a presentation that describes the model you built** and its **performance**. \n"
   ]
  },
  {
   "cell_type": "code",
   "execution_count": 1,
   "metadata": {},
   "outputs": [],
   "source": [
    "import pandas as pd"
   ]
  },
  {
   "cell_type": "code",
   "execution_count": 2,
   "metadata": {},
   "outputs": [],
   "source": [
    "df = pd.read_csv(\"train.csv\")"
   ]
  },
  {
   "cell_type": "markdown",
   "metadata": {},
   "source": [
    "#### Note\n",
    "There is no designated test.csv file. The train.csv file is the entire dataset. Part of the data in the train.csv file should be set aside to act as the final testing data."
   ]
  },
  {
   "cell_type": "markdown",
   "metadata": {},
   "source": [
    "### Exploration"
   ]
  },
  {
   "cell_type": "code",
   "execution_count": 3,
   "metadata": {},
   "outputs": [
    {
     "data": {
      "text/html": [
       "<div>\n",
       "<style scoped>\n",
       "    .dataframe tbody tr th:only-of-type {\n",
       "        vertical-align: middle;\n",
       "    }\n",
       "\n",
       "    .dataframe tbody tr th {\n",
       "        vertical-align: top;\n",
       "    }\n",
       "\n",
       "    .dataframe thead th {\n",
       "        text-align: right;\n",
       "    }\n",
       "</style>\n",
       "<table border=\"1\" class=\"dataframe\">\n",
       "  <thead>\n",
       "    <tr style=\"text-align: right;\">\n",
       "      <th></th>\n",
       "      <th>id</th>\n",
       "      <th>qid1</th>\n",
       "      <th>qid2</th>\n",
       "      <th>question1</th>\n",
       "      <th>question2</th>\n",
       "      <th>is_duplicate</th>\n",
       "    </tr>\n",
       "  </thead>\n",
       "  <tbody>\n",
       "    <tr>\n",
       "      <th>0</th>\n",
       "      <td>0</td>\n",
       "      <td>1</td>\n",
       "      <td>2</td>\n",
       "      <td>What is the step by step guide to invest in sh...</td>\n",
       "      <td>What is the step by step guide to invest in sh...</td>\n",
       "      <td>0</td>\n",
       "    </tr>\n",
       "    <tr>\n",
       "      <th>1</th>\n",
       "      <td>1</td>\n",
       "      <td>3</td>\n",
       "      <td>4</td>\n",
       "      <td>What is the story of Kohinoor (Koh-i-Noor) Dia...</td>\n",
       "      <td>What would happen if the Indian government sto...</td>\n",
       "      <td>0</td>\n",
       "    </tr>\n",
       "    <tr>\n",
       "      <th>2</th>\n",
       "      <td>2</td>\n",
       "      <td>5</td>\n",
       "      <td>6</td>\n",
       "      <td>How can I increase the speed of my internet co...</td>\n",
       "      <td>How can Internet speed be increased by hacking...</td>\n",
       "      <td>0</td>\n",
       "    </tr>\n",
       "    <tr>\n",
       "      <th>3</th>\n",
       "      <td>3</td>\n",
       "      <td>7</td>\n",
       "      <td>8</td>\n",
       "      <td>Why am I mentally very lonely? How can I solve...</td>\n",
       "      <td>Find the remainder when [math]23^{24}[/math] i...</td>\n",
       "      <td>0</td>\n",
       "    </tr>\n",
       "    <tr>\n",
       "      <th>4</th>\n",
       "      <td>4</td>\n",
       "      <td>9</td>\n",
       "      <td>10</td>\n",
       "      <td>Which one dissolve in water quikly sugar, salt...</td>\n",
       "      <td>Which fish would survive in salt water?</td>\n",
       "      <td>0</td>\n",
       "    </tr>\n",
       "  </tbody>\n",
       "</table>\n",
       "</div>"
      ],
      "text/plain": [
       "   id  qid1  qid2                                          question1  \\\n",
       "0   0     1     2  What is the step by step guide to invest in sh...   \n",
       "1   1     3     4  What is the story of Kohinoor (Koh-i-Noor) Dia...   \n",
       "2   2     5     6  How can I increase the speed of my internet co...   \n",
       "3   3     7     8  Why am I mentally very lonely? How can I solve...   \n",
       "4   4     9    10  Which one dissolve in water quikly sugar, salt...   \n",
       "\n",
       "                                           question2  is_duplicate  \n",
       "0  What is the step by step guide to invest in sh...             0  \n",
       "1  What would happen if the Indian government sto...             0  \n",
       "2  How can Internet speed be increased by hacking...             0  \n",
       "3  Find the remainder when [math]23^{24}[/math] i...             0  \n",
       "4            Which fish would survive in salt water?             0  "
      ]
     },
     "execution_count": 3,
     "metadata": {},
     "output_type": "execute_result"
    }
   ],
   "source": [
    "df.head()"
   ]
  },
  {
   "cell_type": "code",
   "execution_count": 19,
   "metadata": {},
   "outputs": [],
   "source": [
    "# drop meaningless columns: id, qid1, qid2\n",
    "df = df.drop(['id','qid1','qid2'],axis=1)"
   ]
  },
  {
   "cell_type": "code",
   "execution_count": 20,
   "metadata": {
    "tags": []
   },
   "outputs": [
    {
     "data": {
      "text/plain": [
       "(298526, 3)"
      ]
     },
     "execution_count": 20,
     "metadata": {},
     "output_type": "execute_result"
    }
   ],
   "source": [
    "df.shape"
   ]
  },
  {
   "cell_type": "code",
   "execution_count": 21,
   "metadata": {},
   "outputs": [
    {
     "name": "stdout",
     "output_type": "stream",
     "text": [
      "<class 'pandas.core.frame.DataFrame'>\n",
      "RangeIndex: 298526 entries, 0 to 298525\n",
      "Data columns (total 3 columns):\n",
      " #   Column        Non-Null Count   Dtype \n",
      "---  ------        --------------   ----- \n",
      " 0   question1     298526 non-null  object\n",
      " 1   question2     298526 non-null  object\n",
      " 2   is_duplicate  298526 non-null  int64 \n",
      "dtypes: int64(1), object(2)\n",
      "memory usage: 6.8+ MB\n"
     ]
    }
   ],
   "source": [
    "df.info()"
   ]
  },
  {
   "cell_type": "code",
   "execution_count": 22,
   "metadata": {},
   "outputs": [
    {
     "data": {
      "text/plain": [
       "question1       0\n",
       "question2       0\n",
       "is_duplicate    0\n",
       "dtype: int64"
      ]
     },
     "execution_count": 22,
     "metadata": {},
     "output_type": "execute_result"
    }
   ],
   "source": [
    "df.isnull().sum()"
   ]
  },
  {
   "cell_type": "code",
   "execution_count": 23,
   "metadata": {},
   "outputs": [],
   "source": [
    "# Drop any NAN entries\n",
    "df = df.dropna()"
   ]
  },
  {
   "cell_type": "code",
   "execution_count": 10,
   "metadata": {},
   "outputs": [
    {
     "name": "stdout",
     "output_type": "stream",
     "text": [
      "frequency of duplicates in df is 50.00%\n"
     ]
    }
   ],
   "source": [
    "# mild class imbalance; 37% of questions are duplicate.  Train and test are similarly imbalanced.\n",
    "print('frequency of duplicates in df is {:.2f}%'.format(df['is_duplicate'].mean()*100))"
   ]
  },
  {
   "cell_type": "code",
   "execution_count": 13,
   "metadata": {},
   "outputs": [
    {
     "name": "stdout",
     "output_type": "stream",
     "text": [
      "new frequency of duplicates in df is 50.00%\n",
      "298526 total observations\n"
     ]
    }
   ],
   "source": [
    "# Resolve minor target class imbalance; can also use SMOTE\n",
    "\n",
    "# Select randomly a subset of non-duplicate questions to match the number of duplicate questions\n",
    "duplicates = df[df['is_duplicate'] == 1]\n",
    "non_duplicates = df[df['is_duplicate'] == 0]\n",
    "duplicates_count = len(duplicates)\n",
    "non_duplicates_sampled = non_duplicates.sample(duplicates_count) # Select a subset of non-duplicate questions\n",
    "\n",
    "# Combine the sampled non-duplicate questions with the original duplicate questions\n",
    "df = pd.concat([duplicates, non_duplicates_sampled], axis=0) \n",
    "\n",
    "# Shuffle the dataset to ensure that the duplicate and non-duplicate questions are mixed\n",
    "df = df.sample(frac=1).reset_index(drop=True)\n",
    "print('new frequency of duplicates in df is {:.2f}%'.format(df['is_duplicate'].mean()*100))\n",
    "print(duplicates_count*2, 'total observations')"
   ]
  },
  {
   "cell_type": "markdown",
   "metadata": {},
   "source": [
    "### Cleaning\n",
    "\n",
    "- Tokenization\n",
    "- Stopwords cleaning\n",
    "- Removing punctuation\n",
    "- Normalizing\n",
    "- Stemming"
   ]
  },
  {
   "cell_type": "code",
   "execution_count": 14,
   "metadata": {},
   "outputs": [],
   "source": [
    "# TODO: Spelling, "
   ]
  },
  {
   "cell_type": "code",
   "execution_count": 29,
   "metadata": {},
   "outputs": [
    {
     "name": "stderr",
     "output_type": "stream",
     "text": [
      "[nltk_data] Downloading package stopwords to\n",
      "[nltk_data]     /Users/connorl/nltk_data...\n",
      "[nltk_data]   Package stopwords is already up-to-date!\n",
      "[nltk_data] Downloading package wordnet to /Users/connorl/nltk_data...\n",
      "[nltk_data]   Package wordnet is already up-to-date!\n"
     ]
    }
   ],
   "source": [
    "import nltk\n",
    "from nltk.tokenize import word_tokenize\n",
    "from nltk.corpus import stopwords\n",
    "from nltk.stem import PorterStemmer\n",
    "import re\n",
    "import string\n",
    "\n",
    "nltk.download('stopwords')\n",
    "nltk.download('wordnet')\n",
    "\n",
    "stop_words = set(stopwords.words('english'))\n",
    "stemmer = PorterStemmer()"
   ]
  },
  {
   "cell_type": "code",
   "execution_count": 10,
   "metadata": {
    "tags": []
   },
   "outputs": [],
   "source": [
    "### Attempt 1: too computationally heavy\n",
    "\n",
    "# def clean_text(df):\n",
    "#     # convert to lowercase\n",
    "#     text = df.lower()\n",
    "    \n",
    "#     # tokenize the text into individual words\n",
    "#     tokens = word_tokenize(text)\n",
    "\n",
    "#     # remove stopwords\n",
    "#     stop_words = set(stopwords.words('english'))\n",
    "#     filtered_tokens = [word for word in tokens if word not in stop_words]\n",
    "\n",
    "#     # remove punctuation\n",
    "#     translator = str.maketrans('', '', string.punctuation)\n",
    "#     no_punct_tokens = [word.translate(translator) for word in filtered_tokens]\n",
    "\n",
    "#     # perform stemming\n",
    "#     stemmer = PorterStemmer()\n",
    "#     stemmed_tokens = [stemmer.stem(word) for word in no_punct_tokens]\n",
    "\n",
    "#     # return cleaned text as a string\n",
    "#     return ' '.join(stemmed_tokens)\n",
    "\n",
    "# # apply the function to the 'text' column of the dataframe\n",
    "# df['cleaned_q1'] = df['question1'].apply(clean_text)\n",
    "# df['cleaned_q2'] = df['question2'].apply(clean_text)\n",
    "# df = df.drop(['question1','question2'],axis=1)"
   ]
  },
  {
   "cell_type": "code",
   "execution_count": 32,
   "metadata": {},
   "outputs": [],
   "source": [
    "def text_preprocessing(text):\n",
    "    # tokenize the text\n",
    "    tokens = nltk.word_tokenize(text)\n",
    "\n",
    "    # preprocess each token by iterating through each one \n",
    "    text = []\n",
    "    for token in tokens:\n",
    "        # convert to lowercase\n",
    "        token = token.lower()\n",
    "        # remove punctuation and digits\n",
    "        token = re.sub(r'[^\\w\\s]', '', token)\n",
    "        # remove non-alphabetic characters\n",
    "        token = re.sub(r'[^a-zA-Z\\s]', '', token)\n",
    "        # stem the word\n",
    "        token = stemmer.stem(token)\n",
    "        # add the preprocessed tokens into the text list\n",
    "        if token not in stop_words:\n",
    "            text.append(token) \n",
    "\n",
    "    # join the words back into a string\n",
    "    clean_text = ' '.join(text)\n",
    "\n",
    "    return clean_text"
   ]
  },
  {
   "cell_type": "code",
   "execution_count": 33,
   "metadata": {},
   "outputs": [],
   "source": [
    "# Apply preprocessing to Q1\n",
    "df['cleaned_q1'] = df['question1'].apply(text_preprocessing)\n",
    "df = df.drop(['question1'],axis=1)"
   ]
  },
  {
   "cell_type": "code",
   "execution_count": 35,
   "metadata": {},
   "outputs": [
    {
     "data": {
      "text/html": [
       "<div>\n",
       "<style scoped>\n",
       "    .dataframe tbody tr th:only-of-type {\n",
       "        vertical-align: middle;\n",
       "    }\n",
       "\n",
       "    .dataframe tbody tr th {\n",
       "        vertical-align: top;\n",
       "    }\n",
       "\n",
       "    .dataframe thead th {\n",
       "        text-align: right;\n",
       "    }\n",
       "</style>\n",
       "<table border=\"1\" class=\"dataframe\">\n",
       "  <thead>\n",
       "    <tr style=\"text-align: right;\">\n",
       "      <th></th>\n",
       "      <th>question1</th>\n",
       "      <th>is_duplicate</th>\n",
       "      <th>cleaned_q1</th>\n",
       "      <th>cleaned_q2</th>\n",
       "    </tr>\n",
       "  </thead>\n",
       "  <tbody>\n",
       "    <tr>\n",
       "      <th>0</th>\n",
       "      <td>What experience would you like to have in zero...</td>\n",
       "      <td>0</td>\n",
       "      <td>experi would like zero graviti</td>\n",
       "      <td>like experi zero graviti</td>\n",
       "    </tr>\n",
       "    <tr>\n",
       "      <th>1</th>\n",
       "      <td>How many countries are there in the world? Tha...</td>\n",
       "      <td>1</td>\n",
       "      <td>mani countri world  thank</td>\n",
       "      <td>mani countri</td>\n",
       "    </tr>\n",
       "    <tr>\n",
       "      <th>2</th>\n",
       "      <td>What mammals are at the top of the food chain ...</td>\n",
       "      <td>0</td>\n",
       "      <td>mammal top food chain us</td>\n",
       "      <td>mammal top food chain australia</td>\n",
       "    </tr>\n",
       "    <tr>\n",
       "      <th>3</th>\n",
       "      <td>What are the side effects of Mobiflex tablets?</td>\n",
       "      <td>0</td>\n",
       "      <td>side effect mobiflex tablet</td>\n",
       "      <td>side effect tablet alprax  mg</td>\n",
       "    </tr>\n",
       "    <tr>\n",
       "      <th>4</th>\n",
       "      <td>What was the first operating system made? What...</td>\n",
       "      <td>1</td>\n",
       "      <td>wa first oper system made  wa histori</td>\n",
       "      <td>first oper system</td>\n",
       "    </tr>\n",
       "    <tr>\n",
       "      <th>...</th>\n",
       "      <td>...</td>\n",
       "      <td>...</td>\n",
       "      <td>...</td>\n",
       "      <td>...</td>\n",
       "    </tr>\n",
       "    <tr>\n",
       "      <th>298521</th>\n",
       "      <td>How do they make smokes?</td>\n",
       "      <td>0</td>\n",
       "      <td>make smoke</td>\n",
       "      <td>make   smoke ring</td>\n",
       "    </tr>\n",
       "    <tr>\n",
       "      <th>298522</th>\n",
       "      <td>What do you see in a typewriter before you buy...</td>\n",
       "      <td>0</td>\n",
       "      <td>see typewrit befor buy</td>\n",
       "      <td>know want buy typewrit</td>\n",
       "    </tr>\n",
       "    <tr>\n",
       "      <th>298523</th>\n",
       "      <td>What are the similarities and differences betw...</td>\n",
       "      <td>0</td>\n",
       "      <td>similar differ aztec inca empir</td>\n",
       "      <td>inca achiev influenc aztec</td>\n",
       "    </tr>\n",
       "    <tr>\n",
       "      <th>298524</th>\n",
       "      <td>Is Popcorn Time legal in Canada?</td>\n",
       "      <td>0</td>\n",
       "      <td>popcorn time legal canada</td>\n",
       "      <td>ha anyon encount legal troubl watch movi popul...</td>\n",
       "    </tr>\n",
       "    <tr>\n",
       "      <th>298525</th>\n",
       "      <td>What are some ways to get updated with the job...</td>\n",
       "      <td>1</td>\n",
       "      <td>way get updat job open experienc profession</td>\n",
       "      <td>best job site get updat open experienc profess...</td>\n",
       "    </tr>\n",
       "  </tbody>\n",
       "</table>\n",
       "<p>298526 rows × 4 columns</p>\n",
       "</div>"
      ],
      "text/plain": [
       "                                                question1  is_duplicate  \\\n",
       "0       What experience would you like to have in zero...             0   \n",
       "1       How many countries are there in the world? Tha...             1   \n",
       "2       What mammals are at the top of the food chain ...             0   \n",
       "3          What are the side effects of Mobiflex tablets?             0   \n",
       "4       What was the first operating system made? What...             1   \n",
       "...                                                   ...           ...   \n",
       "298521                           How do they make smokes?             0   \n",
       "298522  What do you see in a typewriter before you buy...             0   \n",
       "298523  What are the similarities and differences betw...             0   \n",
       "298524                   Is Popcorn Time legal in Canada?             0   \n",
       "298525  What are some ways to get updated with the job...             1   \n",
       "\n",
       "                                          cleaned_q1  \\\n",
       "0                    experi would like zero graviti    \n",
       "1                         mani countri world  thank    \n",
       "2                          mammal top food chain us    \n",
       "3                       side effect mobiflex tablet    \n",
       "4             wa first oper system made  wa histori    \n",
       "...                                              ...   \n",
       "298521                                   make smoke    \n",
       "298522                       see typewrit befor buy    \n",
       "298523              similar differ aztec inca empir    \n",
       "298524                    popcorn time legal canada    \n",
       "298525  way get updat job open experienc profession    \n",
       "\n",
       "                                               cleaned_q2  \n",
       "0                               like experi zero graviti   \n",
       "1                                           mani countri   \n",
       "2                        mammal top food chain australia   \n",
       "3                          side effect tablet alprax  mg   \n",
       "4                                      first oper system   \n",
       "...                                                   ...  \n",
       "298521                                 make   smoke ring   \n",
       "298522                            know want buy typewrit   \n",
       "298523                        inca achiev influenc aztec   \n",
       "298524  ha anyon encount legal troubl watch movi popul...  \n",
       "298525  best job site get updat open experienc profess...  \n",
       "\n",
       "[298526 rows x 4 columns]"
      ]
     },
     "execution_count": 35,
     "metadata": {},
     "output_type": "execute_result"
    }
   ],
   "source": [
    "# Apply preprocessing to Q2\n",
    "df['cleaned_q2'] = df['question2'].apply(text_preprocessing)\n",
    "df = df.drop(['question2'],axis=1)"
   ]
  },
  {
   "cell_type": "code",
   "execution_count": 39,
   "metadata": {},
   "outputs": [
    {
     "name": "stdout",
     "output_type": "stream",
     "text": [
      "<class 'pandas.core.frame.DataFrame'>\n",
      "RangeIndex: 298526 entries, 0 to 298525\n",
      "Data columns (total 3 columns):\n",
      " #   Column        Non-Null Count   Dtype \n",
      "---  ------        --------------   ----- \n",
      " 0   is_duplicate  298526 non-null  int64 \n",
      " 1   cleaned_q1    298526 non-null  object\n",
      " 2   cleaned_q2    298526 non-null  object\n",
      "dtypes: int64(1), object(2)\n",
      "memory usage: 6.8+ MB\n"
     ]
    }
   ],
   "source": [
    "df.info()"
   ]
  },
  {
   "cell_type": "code",
   "execution_count": 40,
   "metadata": {},
   "outputs": [
    {
     "data": {
      "text/html": [
       "<div>\n",
       "<style scoped>\n",
       "    .dataframe tbody tr th:only-of-type {\n",
       "        vertical-align: middle;\n",
       "    }\n",
       "\n",
       "    .dataframe tbody tr th {\n",
       "        vertical-align: top;\n",
       "    }\n",
       "\n",
       "    .dataframe thead th {\n",
       "        text-align: right;\n",
       "    }\n",
       "</style>\n",
       "<table border=\"1\" class=\"dataframe\">\n",
       "  <thead>\n",
       "    <tr style=\"text-align: right;\">\n",
       "      <th></th>\n",
       "      <th>is_duplicate</th>\n",
       "      <th>cleaned_q1</th>\n",
       "      <th>cleaned_q2</th>\n",
       "    </tr>\n",
       "  </thead>\n",
       "  <tbody>\n",
       "    <tr>\n",
       "      <th>298521</th>\n",
       "      <td>0</td>\n",
       "      <td>make smoke</td>\n",
       "      <td>make   smoke ring</td>\n",
       "    </tr>\n",
       "    <tr>\n",
       "      <th>298522</th>\n",
       "      <td>0</td>\n",
       "      <td>see typewrit befor buy</td>\n",
       "      <td>know want buy typewrit</td>\n",
       "    </tr>\n",
       "    <tr>\n",
       "      <th>298523</th>\n",
       "      <td>0</td>\n",
       "      <td>similar differ aztec inca empir</td>\n",
       "      <td>inca achiev influenc aztec</td>\n",
       "    </tr>\n",
       "    <tr>\n",
       "      <th>298524</th>\n",
       "      <td>0</td>\n",
       "      <td>popcorn time legal canada</td>\n",
       "      <td>ha anyon encount legal troubl watch movi popul...</td>\n",
       "    </tr>\n",
       "    <tr>\n",
       "      <th>298525</th>\n",
       "      <td>1</td>\n",
       "      <td>way get updat job open experienc profession</td>\n",
       "      <td>best job site get updat open experienc profess...</td>\n",
       "    </tr>\n",
       "  </tbody>\n",
       "</table>\n",
       "</div>"
      ],
      "text/plain": [
       "        is_duplicate                                    cleaned_q1  \\\n",
       "298521             0                                   make smoke    \n",
       "298522             0                       see typewrit befor buy    \n",
       "298523             0              similar differ aztec inca empir    \n",
       "298524             0                    popcorn time legal canada    \n",
       "298525             1  way get updat job open experienc profession    \n",
       "\n",
       "                                               cleaned_q2  \n",
       "298521                                 make   smoke ring   \n",
       "298522                            know want buy typewrit   \n",
       "298523                        inca achiev influenc aztec   \n",
       "298524  ha anyon encount legal troubl watch movi popul...  \n",
       "298525  best job site get updat open experienc profess...  "
      ]
     },
     "execution_count": 40,
     "metadata": {},
     "output_type": "execute_result"
    }
   ],
   "source": [
    "df.tail()"
   ]
  },
  {
   "cell_type": "markdown",
   "metadata": {},
   "source": [
    "### Feature Engineering\n",
    "\n",
    "- tf-idf\n",
    "- word2vec\n",
    "- word count\n",
    "- number of the same words in both questions\n",
    "- ...."
   ]
  },
  {
   "cell_type": "code",
   "execution_count": 42,
   "metadata": {},
   "outputs": [],
   "source": [
    "import numpy as np\n",
    "from sklearn.feature_extraction.text import TfidfVectorizer\n",
    "import gensim\n",
    "from gensim.models import Word2Vec\n",
    "from gensim.utils import tokenize"
   ]
  },
  {
   "cell_type": "markdown",
   "metadata": {},
   "source": [
    "#### TF-IDF"
   ]
  },
  {
   "cell_type": "code",
   "execution_count": 43,
   "metadata": {},
   "outputs": [],
   "source": [
    "vectorizer = TfidfVectorizer(tokenizer=tokenize, stop_words='english', analyzer='word')\n",
    "\n",
    "# create a TfidfVectorizer object with some parameters\n",
    "tfidf_vectorizer = TfidfVectorizer(use_idf=True, max_features=1000)\n",
    "\n",
    "# fit and transform the preprocessed text for both questions\n",
    "tfidf_question1 = tfidf_vectorizer.fit_transform(df['cleaned_q1'])\n",
    "tfidf_question2 = tfidf_vectorizer.fit_transform(df['cleaned_q2'])"
   ]
  },
  {
   "cell_type": "code",
   "execution_count": 44,
   "metadata": {},
   "outputs": [],
   "source": [
    "# create pandas DataFrame from tfidf_vectorizer_data\n",
    "tfidf_q1_df = pd.DataFrame(tfidf_question1.toarray())\n",
    "tfidf_q2_df = pd.DataFrame(tfidf_question2.toarray())"
   ]
  },
  {
   "cell_type": "code",
   "execution_count": 45,
   "metadata": {},
   "outputs": [],
   "source": [
    "# Attempt 1: Too computationally heavy\n",
    "# Transform\n",
    "# df['q1_tfidf'] = list(vectorizer.transform(df['cleaned_q1']).toarray())\n",
    "# df['q2_tfidf'] = list(vectorizer.transform(df['cleaned_q2']).toarray())"
   ]
  },
  {
   "cell_type": "markdown",
   "metadata": {},
   "source": [
    "#### Word2Vec"
   ]
  },
  {
   "cell_type": "code",
   "execution_count": 46,
   "metadata": {},
   "outputs": [],
   "source": [
    "# combine all text and split into words\n",
    "all_text = df['cleaned_q1'] + df['cleaned_q2']\n",
    "all_words = [sentence.split() for sentence in all_text]"
   ]
  },
  {
   "cell_type": "code",
   "execution_count": 47,
   "metadata": {},
   "outputs": [],
   "source": [
    "# Train a Word2Vec model on all words\n",
    "w2v_model = Word2Vec(all_words, min_count=2)"
   ]
  },
  {
   "cell_type": "code",
   "execution_count": 48,
   "metadata": {},
   "outputs": [],
   "source": [
    "# Create dictionary with frequency of each unique word\n",
    "word_freq = {}\n",
    "for words in all_words:\n",
    "    for word in words:\n",
    "        if word not in word_freq:\n",
    "            word_freq[word] = 1\n",
    "        else:\n",
    "            word_freq[word] += 1"
   ]
  },
  {
   "cell_type": "code",
   "execution_count": 49,
   "metadata": {},
   "outputs": [],
   "source": [
    "# Count number of unique words with count >=2\n",
    "def count_unique_words(row):\n",
    "    question = row['cleaned_q1'] + row['cleaned_q2']\n",
    "    words = question.split()\n",
    "    count = 0\n",
    "    for word in set(words):\n",
    "        if word_freq[word] > 2:\n",
    "            count += 1\n",
    "    return count"
   ]
  },
  {
   "cell_type": "code",
   "execution_count": 50,
   "metadata": {},
   "outputs": [],
   "source": [
    "# create column in dataframe\n",
    "df['unique_word_count'] = df.apply(count_unique_words, axis=1)"
   ]
  },
  {
   "cell_type": "code",
   "execution_count": 52,
   "metadata": {},
   "outputs": [
    {
     "data": {
      "text/html": [
       "<div>\n",
       "<style scoped>\n",
       "    .dataframe tbody tr th:only-of-type {\n",
       "        vertical-align: middle;\n",
       "    }\n",
       "\n",
       "    .dataframe tbody tr th {\n",
       "        vertical-align: top;\n",
       "    }\n",
       "\n",
       "    .dataframe thead th {\n",
       "        text-align: right;\n",
       "    }\n",
       "</style>\n",
       "<table border=\"1\" class=\"dataframe\">\n",
       "  <thead>\n",
       "    <tr style=\"text-align: right;\">\n",
       "      <th></th>\n",
       "      <th>is_duplicate</th>\n",
       "      <th>cleaned_q1</th>\n",
       "      <th>cleaned_q2</th>\n",
       "      <th>unique_word_count</th>\n",
       "    </tr>\n",
       "  </thead>\n",
       "  <tbody>\n",
       "    <tr>\n",
       "      <th>0</th>\n",
       "      <td>0</td>\n",
       "      <td>experi would like zero graviti</td>\n",
       "      <td>like experi zero graviti</td>\n",
       "      <td>5</td>\n",
       "    </tr>\n",
       "    <tr>\n",
       "      <th>1</th>\n",
       "      <td>1</td>\n",
       "      <td>mani countri world  thank</td>\n",
       "      <td>mani countri</td>\n",
       "      <td>4</td>\n",
       "    </tr>\n",
       "    <tr>\n",
       "      <th>2</th>\n",
       "      <td>0</td>\n",
       "      <td>mammal top food chain us</td>\n",
       "      <td>mammal top food chain australia</td>\n",
       "      <td>6</td>\n",
       "    </tr>\n",
       "    <tr>\n",
       "      <th>3</th>\n",
       "      <td>0</td>\n",
       "      <td>side effect mobiflex tablet</td>\n",
       "      <td>side effect tablet alprax  mg</td>\n",
       "      <td>4</td>\n",
       "    </tr>\n",
       "    <tr>\n",
       "      <th>4</th>\n",
       "      <td>1</td>\n",
       "      <td>wa first oper system made  wa histori</td>\n",
       "      <td>first oper system</td>\n",
       "      <td>6</td>\n",
       "    </tr>\n",
       "  </tbody>\n",
       "</table>\n",
       "</div>"
      ],
      "text/plain": [
       "   is_duplicate                              cleaned_q1  \\\n",
       "0             0         experi would like zero graviti    \n",
       "1             1              mani countri world  thank    \n",
       "2             0               mammal top food chain us    \n",
       "3             0            side effect mobiflex tablet    \n",
       "4             1  wa first oper system made  wa histori    \n",
       "\n",
       "                         cleaned_q2  unique_word_count  \n",
       "0         like experi zero graviti                   5  \n",
       "1                     mani countri                   4  \n",
       "2  mammal top food chain australia                   6  \n",
       "3    side effect tablet alprax  mg                   4  \n",
       "4                first oper system                   6  "
      ]
     },
     "execution_count": 52,
     "metadata": {},
     "output_type": "execute_result"
    }
   ],
   "source": [
    "df.head()"
   ]
  },
  {
   "cell_type": "markdown",
   "metadata": {},
   "source": [
    "#### Word Count"
   ]
  },
  {
   "cell_type": "code",
   "execution_count": 53,
   "metadata": {},
   "outputs": [],
   "source": [
    "from sklearn.feature_extraction.text import CountVectorizer"
   ]
  },
  {
   "cell_type": "code",
   "execution_count": 54,
   "metadata": {},
   "outputs": [],
   "source": [
    "# Instatiate Count Vectorizer\n",
    "count_vectorizer = CountVectorizer()"
   ]
  },
  {
   "cell_type": "code",
   "execution_count": 55,
   "metadata": {},
   "outputs": [],
   "source": [
    "# fit and transform\n",
    "count_q1 = count_vectorizer.fit_transform(df['cleaned_q1'])\n",
    "count_q2 = count_vectorizer.fit_transform(df['cleaned_q2'])"
   ]
  },
  {
   "cell_type": "code",
   "execution_count": 56,
   "metadata": {},
   "outputs": [
    {
     "name": "stdout",
     "output_type": "stream",
     "text": [
      "total words: 40781\n"
     ]
    }
   ],
   "source": [
    "print('total words:', len(count_vectorizer.vocabulary_))"
   ]
  },
  {
   "cell_type": "code",
   "execution_count": 57,
   "metadata": {},
   "outputs": [],
   "source": [
    "# word count per row per token\n",
    "df['q1_word_count'] = df['cleaned_q1'].str.split().apply(len)\n",
    "df['q2_word_count'] = df['cleaned_q2'].str.split().apply(len)"
   ]
  },
  {
   "cell_type": "code",
   "execution_count": 58,
   "metadata": {},
   "outputs": [
    {
     "data": {
      "text/html": [
       "<div>\n",
       "<style scoped>\n",
       "    .dataframe tbody tr th:only-of-type {\n",
       "        vertical-align: middle;\n",
       "    }\n",
       "\n",
       "    .dataframe tbody tr th {\n",
       "        vertical-align: top;\n",
       "    }\n",
       "\n",
       "    .dataframe thead th {\n",
       "        text-align: right;\n",
       "    }\n",
       "</style>\n",
       "<table border=\"1\" class=\"dataframe\">\n",
       "  <thead>\n",
       "    <tr style=\"text-align: right;\">\n",
       "      <th></th>\n",
       "      <th>is_duplicate</th>\n",
       "      <th>cleaned_q1</th>\n",
       "      <th>cleaned_q2</th>\n",
       "      <th>unique_word_count</th>\n",
       "      <th>q1_word_count</th>\n",
       "      <th>q2_word_count</th>\n",
       "    </tr>\n",
       "  </thead>\n",
       "  <tbody>\n",
       "    <tr>\n",
       "      <th>0</th>\n",
       "      <td>0</td>\n",
       "      <td>experi would like zero graviti</td>\n",
       "      <td>like experi zero graviti</td>\n",
       "      <td>5</td>\n",
       "      <td>5</td>\n",
       "      <td>4</td>\n",
       "    </tr>\n",
       "    <tr>\n",
       "      <th>1</th>\n",
       "      <td>1</td>\n",
       "      <td>mani countri world  thank</td>\n",
       "      <td>mani countri</td>\n",
       "      <td>4</td>\n",
       "      <td>4</td>\n",
       "      <td>2</td>\n",
       "    </tr>\n",
       "  </tbody>\n",
       "</table>\n",
       "</div>"
      ],
      "text/plain": [
       "   is_duplicate                       cleaned_q1                 cleaned_q2  \\\n",
       "0             0  experi would like zero graviti   like experi zero graviti    \n",
       "1             1       mani countri world  thank               mani countri    \n",
       "\n",
       "   unique_word_count  q1_word_count  q2_word_count  \n",
       "0                  5              5              4  \n",
       "1                  4              4              2  "
      ]
     },
     "execution_count": 58,
     "metadata": {},
     "output_type": "execute_result"
    }
   ],
   "source": [
    "df.head(2)"
   ]
  },
  {
   "cell_type": "markdown",
   "metadata": {},
   "source": [
    "#### Word similarity"
   ]
  },
  {
   "cell_type": "code",
   "execution_count": 59,
   "metadata": {},
   "outputs": [],
   "source": [
    "from sklearn.metrics.pairwise import cosine_similarity"
   ]
  },
  {
   "cell_type": "code",
   "execution_count": 61,
   "metadata": {},
   "outputs": [],
   "source": [
    "#Create corpus for processing\n",
    "corpus = pd.concat([df['cleaned_q1'], df['cleaned_q2']])"
   ]
  },
  {
   "cell_type": "code",
   "execution_count": 62,
   "metadata": {},
   "outputs": [
    {
     "data": {
      "text/plain": [
       "TfidfVectorizer()"
      ]
     },
     "execution_count": 62,
     "metadata": {},
     "output_type": "execute_result"
    }
   ],
   "source": [
    "vectorizer = TfidfVectorizer()\n",
    "vectorizer.fit(corpus)"
   ]
  },
  {
   "cell_type": "code",
   "execution_count": 64,
   "metadata": {},
   "outputs": [],
   "source": [
    "vectors_q1 = vectorizer.transform(df['cleaned_q1'])\n",
    "vectors_q2 = vectorizer.transform(df['cleaned_q2'])"
   ]
  },
  {
   "cell_type": "code",
   "execution_count": 65,
   "metadata": {},
   "outputs": [],
   "source": [
    "# Cosine similarities (orientation similarity, regardless of magnitude)\n",
    "\n",
    "cosine_sim_list = []\n",
    "\n",
    "for i in range(len(df)):\n",
    "       \n",
    "        cosine_sim_list.append(cosine_similarity(vectors_q1[i], vectors_q2[i]))"
   ]
  },
  {
   "cell_type": "code",
   "execution_count": 68,
   "metadata": {},
   "outputs": [],
   "source": [
    "# Calculate similarity\n",
    "s = 0\n",
    "cosine_sim = []\n",
    "\n",
    "while s < df.shape[0]:\n",
    "    cosine_sim.append(cosine_sim_list[s][0][0])\n",
    "    s += 1"
   ]
  },
  {
   "cell_type": "code",
   "execution_count": 70,
   "metadata": {},
   "outputs": [],
   "source": [
    "# Add feature\n",
    "df['cosine_similarity'] = cosine_sim"
   ]
  },
  {
   "cell_type": "code",
   "execution_count": 73,
   "metadata": {},
   "outputs": [
    {
     "name": "stdout",
     "output_type": "stream",
     "text": [
      "<class 'pandas.core.frame.DataFrame'>\n",
      "RangeIndex: 298526 entries, 0 to 298525\n",
      "Data columns (total 7 columns):\n",
      " #   Column             Non-Null Count   Dtype  \n",
      "---  ------             --------------   -----  \n",
      " 0   is_duplicate       298526 non-null  int64  \n",
      " 1   cleaned_q1         298526 non-null  object \n",
      " 2   cleaned_q2         298526 non-null  object \n",
      " 3   unique_word_count  298526 non-null  int64  \n",
      " 4   q1_word_count      298526 non-null  int64  \n",
      " 5   q2_word_count      298526 non-null  int64  \n",
      " 6   cosine_similarity  298526 non-null  float64\n",
      "dtypes: float64(1), int64(4), object(2)\n",
      "memory usage: 15.9+ MB\n"
     ]
    }
   ],
   "source": [
    "df.info()"
   ]
  },
  {
   "cell_type": "markdown",
   "metadata": {},
   "source": [
    "### Split into train and test"
   ]
  },
  {
   "cell_type": "code",
   "execution_count": 74,
   "metadata": {},
   "outputs": [],
   "source": [
    "from sklearn.model_selection import train_test_split\n",
    "\n",
    "X = df.drop(['is_duplicate'],axis=1)\n",
    "y = df['is_duplicate']"
   ]
  },
  {
   "cell_type": "code",
   "execution_count": 75,
   "metadata": {},
   "outputs": [
    {
     "name": "stdout",
     "output_type": "stream",
     "text": [
      "<class 'pandas.core.frame.DataFrame'>\n",
      "RangeIndex: 298526 entries, 0 to 298525\n",
      "Data columns (total 6 columns):\n",
      " #   Column             Non-Null Count   Dtype  \n",
      "---  ------             --------------   -----  \n",
      " 0   cleaned_q1         298526 non-null  object \n",
      " 1   cleaned_q2         298526 non-null  object \n",
      " 2   unique_word_count  298526 non-null  int64  \n",
      " 3   q1_word_count      298526 non-null  int64  \n",
      " 4   q2_word_count      298526 non-null  int64  \n",
      " 5   cosine_similarity  298526 non-null  float64\n",
      "dtypes: float64(1), int64(3), object(2)\n",
      "memory usage: 13.7+ MB\n"
     ]
    }
   ],
   "source": [
    "X.info()"
   ]
  },
  {
   "cell_type": "code",
   "execution_count": 76,
   "metadata": {},
   "outputs": [],
   "source": [
    "#Split data into train and test; infer 20% test is appropriate given data size\n",
    "X_train, X_test, y_train, y_test = train_test_split(X, y, test_size=0.2, random_state=42)"
   ]
  },
  {
   "cell_type": "code",
   "execution_count": 78,
   "metadata": {},
   "outputs": [
    {
     "name": "stdout",
     "output_type": "stream",
     "text": [
      "frequency of duplicates in df is 50.00%\n",
      "frequency of duplicates in train is 49.97%\n",
      "frequency of duplicates in test is 50.13%\n"
     ]
    }
   ],
   "source": [
    "# Check target class balance\n",
    "print('frequency of duplicates in df is {:.2f}%'.format(y.mean()*100))\n",
    "print('frequency of duplicates in train is {:.2f}%'.format(y_train.mean()*100))\n",
    "print('frequency of duplicates in test is {:.2f}%'.format(y_test.mean()*100))"
   ]
  },
  {
   "cell_type": "markdown",
   "metadata": {},
   "source": [
    "### Modeling\n",
    "\n",
    "Different modeling techniques can be used:\n",
    "\n",
    "- logistic regression\n",
    "- XGBoost\n",
    "- LSTMs\n",
    "- etc"
   ]
  },
  {
   "cell_type": "markdown",
   "metadata": {},
   "source": [
    "#### Logistic Regression"
   ]
  },
  {
   "cell_type": "code",
   "execution_count": 79,
   "metadata": {},
   "outputs": [],
   "source": [
    "from sklearn.linear_model import LogisticRegression\n",
    "from scipy.sparse import hstack\n",
    "from sklearn.metrics import accuracy_score, precision_score, recall_score, f1_score, confusion_matrix, classification_report, precision_recall_curve\n",
    "import matplotlib.pyplot as plt\n",
    "import seaborn as sns"
   ]
  },
  {
   "cell_type": "code",
   "execution_count": 80,
   "metadata": {
    "tags": []
   },
   "outputs": [],
   "source": [
    "# Convert questions from strings to vectors for analysis\n",
    "vectorizer = TfidfVectorizer(strip_accents='unicode', analyzer='word', ngram_range=(1, 3)) #, norm='l2')\n",
    "\n",
    "X_train_q1 = vectorizer.fit_transform(X_train['cleaned_q1'])\n",
    "X_train_q2 = vectorizer.transform(X_train['cleaned_q2']) \n",
    "X_test_q1 = vectorizer.transform(X_test['cleaned_q1']) \n",
    "X_test_q2 = vectorizer.transform(X_test['cleaned_q2']) "
   ]
  },
  {
   "cell_type": "code",
   "execution_count": 81,
   "metadata": {
    "tags": []
   },
   "outputs": [],
   "source": [
    "# Redefine X_train and X_test using vectors; toscr() to compress the data so it can be fit\n",
    "X_train = hstack((X_train_q1, X_train_q2, X_train[['unique_word_count', 'q1_word_count', 'q2_word_count']].values)).tocsr()\n",
    "X_test = hstack((X_test_q1, X_test_q2, X_test[['unique_word_count', 'q1_word_count', 'q2_word_count']].values)).tocsr()"
   ]
  },
  {
   "cell_type": "code",
   "execution_count": 82,
   "metadata": {
    "tags": []
   },
   "outputs": [],
   "source": [
    "lr_model = LogisticRegression(max_iter=1000)"
   ]
  },
  {
   "cell_type": "code",
   "execution_count": 83,
   "metadata": {},
   "outputs": [
    {
     "name": "stderr",
     "output_type": "stream",
     "text": [
      "/Users/connorl/opt/anaconda3/lib/python3.9/site-packages/sklearn/linear_model/_logistic.py:814: ConvergenceWarning: lbfgs failed to converge (status=1):\n",
      "STOP: TOTAL NO. of ITERATIONS REACHED LIMIT.\n",
      "\n",
      "Increase the number of iterations (max_iter) or scale the data as shown in:\n",
      "    https://scikit-learn.org/stable/modules/preprocessing.html\n",
      "Please also refer to the documentation for alternative solver options:\n",
      "    https://scikit-learn.org/stable/modules/linear_model.html#logistic-regression\n",
      "  n_iter_i = _check_optimize_result(\n"
     ]
    },
    {
     "data": {
      "text/plain": [
       "LogisticRegression(max_iter=1000)"
      ]
     },
     "execution_count": 83,
     "metadata": {},
     "output_type": "execute_result"
    }
   ],
   "source": [
    "# Fit model\n",
    "lr_model.fit(X_train, y_train)"
   ]
  },
  {
   "cell_type": "code",
   "execution_count": 84,
   "metadata": {},
   "outputs": [],
   "source": [
    "# Prediction\n",
    "y_pred = lr_model.predict(X_test)"
   ]
  },
  {
   "cell_type": "code",
   "execution_count": 85,
   "metadata": {},
   "outputs": [
    {
     "name": "stdout",
     "output_type": "stream",
     "text": [
      "Accuracy Score = 79.14 %\n",
      "Precision Score = 76.67 %\n",
      "Recall Score = 83.93 %\n",
      "F1 Score = 80.13 %\n"
     ]
    }
   ],
   "source": [
    "# Model Perfomance\n",
    "\n",
    "# Accuracy score\n",
    "accuracy = accuracy_score(y_test, y_pred)\n",
    "print('Accuracy Score = {:.2f} %'.format(accuracy*100))\n",
    "\n",
    "# Precision score\n",
    "precision = precision_score(y_test, y_pred)\n",
    "print('Precision Score = {:.2f} %'.format(precision*100))\n",
    "\n",
    "# Recall score\n",
    "recall = recall_score(y_test, y_pred)\n",
    "print('Recall Score = {:.2f} %'.format(recall*100))\n",
    "\n",
    "# F1 score\n",
    "f1 = f1_score(y_test, y_pred)\n",
    "print('F1 Score = {:.2f} %'.format(f1*100))"
   ]
  },
  {
   "cell_type": "code",
   "execution_count": 86,
   "metadata": {},
   "outputs": [
    {
     "data": {
      "image/png": "[encoded data removed]",
      "text/plain": [
       "<Figure size 640x480 with 1 Axes>"
      ]
     },
     "metadata": {},
     "output_type": "display_data"
    }
   ],
   "source": [
    "# Confusion matrix\n",
    "cm = confusion_matrix(y_test, y_pred)\n",
    "\n",
    "# Normalise\n",
    "# cm_norm = cm.astype('float') / cm.sum(axis=1)[:, np.newaxis]\n",
    "\n",
    "# Heatmap for confusion matrix\n",
    "sns.heatmap(cm/np.sum(cm), annot=True, cmap=\"Blues\", fmt=\".0%\", cbar=False)\n",
    "plt.xlabel(\"Predicted\")\n",
    "plt.ylabel(\"True\")\n",
    "plt.title(\"Confusion Matrix For Logistic Regression Model\")\n",
    "plt.show()"
   ]
  },
  {
   "cell_type": "code",
   "execution_count": 87,
   "metadata": {},
   "outputs": [
    {
     "data": {
      "image/png": "[encoded data removed]",
      "text/plain": [
       "<Figure size 640x480 with 1 Axes>"
      ]
     },
     "metadata": {},
     "output_type": "display_data"
    }
   ],
   "source": [
    "# Predicted probabilities\n",
    "y_prob = lr_model.predict_proba(X_test)[:, 1]\n",
    "\n",
    "# calculate precision and recall values at various thresholds\n",
    "precision, recall, thresholds = precision_recall_curve(y_test, y_prob)\n",
    "\n",
    "# plot precision-recall curve\n",
    "import matplotlib.pyplot as plt\n",
    "\n",
    "plt.plot(recall, precision, label='Precision-Recall Curve')\n",
    "plt.xlabel('Recall')\n",
    "plt.ylabel('Precision')\n",
    "plt.title('Precision-Recall Curve for Logistic Regression')\n",
    "plt.legend()\n",
    "plt.show()"
   ]
  },
  {
   "cell_type": "markdown",
   "metadata": {},
   "source": [
    "#### XGBoost"
   ]
  },
  {
   "cell_type": "code",
   "execution_count": 88,
   "metadata": {},
   "outputs": [],
   "source": [
    "import xgboost as xgb\n",
    "from sklearn.metrics import mean_absolute_error, mean_squared_error, r2_score"
   ]
  },
  {
   "cell_type": "code",
   "execution_count": 89,
   "metadata": {},
   "outputs": [],
   "source": [
    "# convert to DMatrix\n",
    "dtrain = xgb.DMatrix(X_train, label=y_train)\n",
    "dtest = xgb.DMatrix(X_test, label=y_test)\n",
    "\n",
    "# hyperparameters\n",
    "params = {\n",
    "    'max_depth': 3,\n",
    "    'eta': 0.1,\n",
    "    'objective': 'reg:squarederror'\n",
    "}\n",
    "\n",
    "# train the model\n",
    "num_rounds = 100\n",
    "xgb_model = xgb.train(params, dtrain, num_rounds)\n",
    "\n",
    "# make prediction on test data\n",
    "y_pred_xgboost = xgb_model.predict(dtest)\n",
    "\n",
    "# round predictions to the nearest integer\n",
    "y_pred = [int(round(pred)) for pred in y_pred]"
   ]
  },
  {
   "cell_type": "code",
   "execution_count": 90,
   "metadata": {},
   "outputs": [
    {
     "name": "stdout",
     "output_type": "stream",
     "text": [
      "Mean Squared Error = 0.197\n",
      "Mean Absolute Error = 0.414\n",
      "R Squared score = 0.213\n",
      "Root Mean Squared Error = 0.444\n"
     ]
    }
   ],
   "source": [
    "xgboost_mse = mean_squared_error(y_test, y_pred_xgboost)\n",
    "print('Mean Squared Error = {:.3f}'.format(xgboost_mse))\n",
    "\n",
    "xgboost_mae = mean_absolute_error(y_test, y_pred_xgboost)\n",
    "print('Mean Absolute Error = {:.3f}'.format(xgboost_mae))\n",
    "\n",
    "xgboost_r2 = r2_score(y_test, y_pred_xgboost)\n",
    "print('R Squared score = {:.3f}'.format(xgboost_r2))\n",
    "\n",
    "xgboost_rmse = np.sqrt(xgboost_mse)\n",
    "print('Root Mean Squared Error = {:.3f}'.format(xgboost_rmse))"
   ]
  },
  {
   "cell_type": "code",
   "execution_count": 92,
   "metadata": {},
   "outputs": [
    {
     "data": {
      "image/png": "[encoded data removed]",
      "text/plain": [
       "<Figure size 640x480 with 1 Axes>"
      ]
     },
     "metadata": {},
     "output_type": "display_data"
    }
   ],
   "source": [
    "# Confusion matrix\n",
    "cm = confusion_matrix(y_test, y_pred)\n",
    "\n",
    "# Normalise\n",
    "# cm_norm = cm.astype('float') / cm.sum(axis=1)[:, np.newaxis]\n",
    "\n",
    "# Heatmap for confusion matrix\n",
    "sns.heatmap(cm/np.sum(cm), annot=True, cmap=\"Blues\", fmt=\".0%\", cbar=False)\n",
    "plt.xlabel(\"Predicted\")\n",
    "plt.ylabel(\"True\")\n",
    "plt.title(\"Confusion Matrix For XG Boost Model\")\n",
    "plt.show()"
   ]
  },
  {
   "cell_type": "markdown",
   "metadata": {},
   "source": [
    "#### LSTM"
   ]
  },
  {
   "cell_type": "code",
   "execution_count": null,
   "metadata": {},
   "outputs": [],
   "source": [
    "# import tensorflow as tf\n",
    "# from tensorflow import keras\n",
    "# from tensorflow.keras.datasets import imdb\n",
    "# from tensorflow.keras.models import Sequential\n",
    "# from tensorflow.keras.layers import Dense, Dropout, Activation\n",
    "# from tensorflow.keras.preprocessing.text import Tokenizer\n",
    "# from tensorflow.keras.preprocessing.sequence import pad_sequences"
   ]
  },
  {
   "cell_type": "code",
   "execution_count": null,
   "metadata": {},
   "outputs": [],
   "source": []
  },
  {
   "cell_type": "code",
   "execution_count": null,
   "metadata": {},
   "outputs": [],
   "source": []
  }
 ],
 "metadata": {
  "kernelspec": {
   "display_name": "Python 3 (ipykernel)",
   "language": "python",
   "name": "python3"
  },
  "language_info": {
   "codemirror_mode": {
    "name": "ipython",
    "version": 3
   },
   "file_extension": ".py",
   "mimetype": "text/x-python",
   "name": "python",
   "nbconvert_exporter": "python",
   "pygments_lexer": "ipython3",
   "version": "3.9.13"
  }
 },
 "nbformat": 4,
 "nbformat_minor": 4
}
